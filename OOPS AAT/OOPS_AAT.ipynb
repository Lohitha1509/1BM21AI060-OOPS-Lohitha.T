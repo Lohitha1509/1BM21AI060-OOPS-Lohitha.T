{
  "nbformat": 4,
  "nbformat_minor": 0,
  "metadata": {
    "colab": {
      "provenance": []
    },
    "kernelspec": {
      "name": "python3",
      "display_name": "Python 3"
    },
    "language_info": {
      "name": "python"
    }
  },
  "cells": [
    {
      "cell_type": "code",
      "execution_count": null,
      "metadata": {
        "id": "wvsX2L-u1-pB"
      },
      "outputs": [],
      "source": [
        "class Employee:\n",
        "    def __init__(self, name):\n",
        "        self.name = name\n",
        "\n",
        "    def work(self):\n",
        "        pass\n",
        "\n",
        "    def report(self):\n",
        "        pass\n",
        "\n",
        "class Company:\n",
        "    def __init__(self):\n",
        "        self.employees = []\n",
        "\n",
        "    def hire_employee(self, employee):\n",
        "        self.employees.append(employee)\n",
        "\n",
        "    def show_report(self):\n",
        "        for employee in self.employees:\n",
        "            employee.report()\n",
        "\n",
        "class Manager(Employee):\n",
        "    def work(self):\n",
        "        print(f\"{self.name} is managing.\")\n",
        "\n",
        "    def report(self):\n",
        "        print(f\"{self.name} is reporting the status.\")\n",
        "\n",
        "class Developer(Employee):\n",
        "    def work(self):\n",
        "        print(f\"{self.name} is developing.\")\n",
        "\n",
        "    def report(self):\n",
        "        print(f\"{self.name} is reporting the progress.\")\n"
      ]
    },
    {
      "cell_type": "markdown",
      "source": [
        "SRP"
      ],
      "metadata": {
        "id": "mvSW_ZTk4v48"
      }
    },
    {
      "cell_type": "code",
      "source": [
        "class Employee:\n",
        "    def __init__(self, name):\n",
        "        self.name = name\n",
        "\n",
        "class Worker:\n",
        "    def work(self):\n",
        "        pass\n",
        "\n",
        "class Reporter:\n",
        "    def report(self):\n",
        "        pass\n",
        "\n",
        "class Manager(Employee, Worker, Reporter):\n",
        "    def work(self):\n",
        "        print(f\"{self.name} is managing.\")\n",
        "\n",
        "    def report(self):\n",
        "        print(f\"{self.name} is reporting the status.\")\n",
        "\n",
        "class Developer(Employee, Worker, Reporter):\n",
        "    def work(self):\n",
        "        print(f\"{self.name} is developing.\")\n",
        "\n",
        "    def report(self):\n",
        "        print(f\"{self.name} is reporting the progress.\")\n",
        "\n",
        "manager = Manager(\"John\")\n",
        "manager.work()\n",
        "manager.report()\n",
        "\n",
        "developer = Developer(\"Alice\")\n",
        "developer.work()\n",
        "developer.report()\n"
      ],
      "metadata": {
        "colab": {
          "base_uri": "https://localhost:8080/"
        },
        "id": "libod41T2o6T",
        "outputId": "26e90e78-9a9e-4a83-8837-04c3830298a4"
      },
      "execution_count": null,
      "outputs": [
        {
          "output_type": "stream",
          "name": "stdout",
          "text": [
            "John is managing.\n",
            "John is reporting the status.\n",
            "Alice is developing.\n",
            "Alice is reporting the progress.\n"
          ]
        }
      ]
    },
    {
      "cell_type": "markdown",
      "source": [
        "OCP"
      ],
      "metadata": {
        "id": "mrNF8nK74yzF"
      }
    },
    {
      "cell_type": "code",
      "source": [
        "class Employee:\n",
        "    def __init__(self, name):\n",
        "        self.name = name\n",
        "\n",
        "    def work(self):\n",
        "        pass\n",
        "\n",
        "    def report(self):\n",
        "        pass\n",
        "\n",
        "class Manager(Employee):\n",
        "    def work(self):\n",
        "        print(f\"{self.name} is managing.\")\n",
        "\n",
        "    def report(self):\n",
        "        print(f\"{self.name} is reporting the status.\")\n",
        "\n",
        "class Developer(Employee):\n",
        "    def work(self):\n",
        "        print(f\"{self.name} is developing.\")\n",
        "\n",
        "    def report(self):\n",
        "        print(f\"{self.name} is reporting the progress.\")\n",
        "\n",
        "class Intern(Employee):\n",
        "    def work(self):\n",
        "        print(f\"{self.name} is interning.\")\n",
        "\n",
        "    def report(self):\n",
        "        print(f\"{self.name} is reporting.\")\n",
        "\n",
        "intern = Intern(\"Bob\")\n",
        "intern.work()\n",
        "intern.report()\n"
      ],
      "metadata": {
        "colab": {
          "base_uri": "https://localhost:8080/"
        },
        "id": "Dqy80qt72VfY",
        "outputId": "5ec894bd-cdb8-4de7-a8cc-b27df8264132"
      },
      "execution_count": null,
      "outputs": [
        {
          "output_type": "stream",
          "name": "stdout",
          "text": [
            "Bob is interning.\n",
            "Bob is reporting.\n"
          ]
        }
      ]
    },
    {
      "cell_type": "markdown",
      "source": [
        "LSP"
      ],
      "metadata": {
        "id": "3P7RUWus48uy"
      }
    },
    {
      "cell_type": "code",
      "source": [
        "class Employee:\n",
        "    def __init__(self, name):\n",
        "        self.name = name\n",
        "\n",
        "    def work(self):\n",
        "        pass\n",
        "\n",
        "    def report(self):\n",
        "        pass\n",
        "\n",
        "class Manager(Employee):\n",
        "    def work(self):\n",
        "        print(f\"{self.name} is managing.\")\n",
        "\n",
        "    def report(self):\n",
        "        print(f\"{self.name} is reporting the status.\")\n",
        "\n",
        "class Developer(Employee):\n",
        "    def work(self):\n",
        "        print(f\"{self.name} is developing.\")\n",
        "\n",
        "    def report(self):\n",
        "        print(f\"{self.name} is reporting the progress.\")\n",
        "\n",
        "def do_work(employee):\n",
        "    employee.work()\n",
        "\n",
        "def generate_report(employee):\n",
        "    employee.report()\n",
        "\n",
        "# Example usage\n",
        "manager = Manager(\"John\")\n",
        "do_work(manager)\n",
        "\n",
        "developer = Developer(\"Alice\")\n",
        "do_work(developer)\n",
        "\n",
        "generate_report(manager)\n",
        "generate_report(developer)\n"
      ],
      "metadata": {
        "colab": {
          "base_uri": "https://localhost:8080/"
        },
        "id": "8FZ6-fQk2ysq",
        "outputId": "57fd5f4b-d022-46a6-dfd0-7f58314e552e"
      },
      "execution_count": null,
      "outputs": [
        {
          "output_type": "stream",
          "name": "stdout",
          "text": [
            "John is managing.\n",
            "Alice is developing.\n",
            "John is reporting the status.\n",
            "Alice is reporting the progress.\n"
          ]
        }
      ]
    },
    {
      "cell_type": "markdown",
      "source": [
        "ISP"
      ],
      "metadata": {
        "id": "U91FLFFE6dNf"
      }
    },
    {
      "cell_type": "code",
      "source": [
        "class Workable:\n",
        "    def work(self):\n",
        "        pass\n",
        "\n",
        "class Reportable:\n",
        "    def report(self):\n",
        "        pass\n",
        "\n",
        "class Employee:\n",
        "    def __init__(self, name):\n",
        "        self.name = name\n",
        "\n",
        "class Manager(Employee, Workable, Reportable):\n",
        "    def work(self):\n",
        "        print(f\"{self.name} is managing.\")\n",
        "\n",
        "    def report(self):\n",
        "        print(f\"{self.name} is reporting the status.\")\n",
        "\n",
        "class Developer(Employee, Workable, Reportable):\n",
        "    def work(self):\n",
        "        print(f\"{self.name} is developing.\")\n",
        "\n",
        "    def report(self):\n",
        "        print(f\"{self.name} is reporting the progress.\")\n",
        "\n",
        "class Intern(Employee, Workable):\n",
        "    def work(self):\n",
        "        print(f\"{self.name} is interning.\")\n",
        "\n",
        "manager = Manager(\"John\")\n",
        "manager.work()\n",
        "manager.report()\n",
        "\n",
        "developer = Developer(\"Alice\")\n",
        "developer.work()\n",
        "developer.report()\n",
        "\n",
        "intern = Intern(\"Bob\")\n",
        "intern.work()\n"
      ],
      "metadata": {
        "colab": {
          "base_uri": "https://localhost:8080/"
        },
        "id": "WPT-qtuA3Wet",
        "outputId": "d8a1ac81-5ca8-47a3-ea9d-b05e6061aa55"
      },
      "execution_count": null,
      "outputs": [
        {
          "output_type": "stream",
          "name": "stdout",
          "text": [
            "John is managing.\n",
            "John is reporting the status.\n",
            "Alice is developing.\n",
            "Alice is reporting the progress.\n",
            "Bob is interning.\n"
          ]
        }
      ]
    },
    {
      "cell_type": "markdown",
      "source": [
        "DIP"
      ],
      "metadata": {
        "id": "m_y3G91i6g5-"
      }
    },
    {
      "cell_type": "code",
      "source": [
        "class Employee:\n",
        "    def __init__(self, name):\n",
        "        self.name = name\n",
        "\n",
        "class Worker:\n",
        "    def work(self):\n",
        "        pass\n",
        "\n",
        "class Reporter:\n",
        "    def report(self):\n",
        "        pass\n",
        "\n",
        "class Manager(Employee, Worker, Reporter):\n",
        "    def work(self):\n",
        "        print(f\"{self.name} is managing.\")\n",
        "\n",
        "    def report(self):\n",
        "        print(f\"{self.name} is reporting the status.\")\n",
        "\n",
        "class Developer(Employee, Worker, Reporter):\n",
        "    def work(self):\n",
        "        print(f\"{self.name} is developing.\")\n",
        "\n",
        "    def report(self):\n",
        "        print(f\"{self.name} is reporting the progress.\")\n",
        "\n",
        "class Company:\n",
        "    def __init__(self):\n",
        "        self.employees = []\n",
        "\n",
        "    def hire_employee(self, employee):\n",
        "        self.employees.append(employee)\n",
        "\n",
        "    def show_report(self):\n",
        "        for employee in self.employees:\n",
        "            if isinstance(employee, Reporter):\n",
        "                employee.report()\n",
        "\n",
        "company = Company()\n",
        "manager = Manager(\"John\")\n",
        "developer = Developer(\"Alice\")\n",
        "\n",
        "company.hire_employee(manager)\n",
        "company.hire_employee(developer)\n",
        "\n",
        "company.show_report()\n"
      ],
      "metadata": {
        "colab": {
          "base_uri": "https://localhost:8080/"
        },
        "id": "lPHR1xUB3zut",
        "outputId": "99c66073-154d-4bab-92e2-fb00dadbaed7"
      },
      "execution_count": null,
      "outputs": [
        {
          "output_type": "stream",
          "name": "stdout",
          "text": [
            "John is reporting the status.\n",
            "Alice is reporting the progress.\n"
          ]
        }
      ]
    }
  ]
}