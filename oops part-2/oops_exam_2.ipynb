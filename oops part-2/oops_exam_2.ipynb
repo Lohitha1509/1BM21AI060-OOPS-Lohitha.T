{
  "nbformat": 4,
  "nbformat_minor": 0,
  "metadata": {
    "colab": {
      "provenance": []
    },
    "kernelspec": {
      "name": "python3",
      "display_name": "Python 3"
    },
    "language_info": {
      "name": "python"
    }
  },
  "cells": [
    {
      "cell_type": "markdown",
      "source": [
        "6 (a)Create a base class called Father and derived class called Son which\n",
        "extends the base class. In Father class, implement a constructor which\n",
        "takes the age and throws the user defined exception WrongAge( ) when\n",
        "the input age<0. In Son class, implement a constructor that checks both\n",
        "father and son’s age and throws an using defined exception AgeInvalid( )\n",
        "if son’s age is >=father’s age."
      ],
      "metadata": {
        "id": "vLSSlNJ7GE51"
      }
    },
    {
      "cell_type": "code",
      "source": [
        "class WrongAge(Exception):\n",
        "    pass\n",
        "class AgeInvalid(Exception):\n",
        "    pass\n",
        "\n",
        "class Father:\n",
        "    def __init__(self, age):\n",
        "        if age < 0:\n",
        "            raise WrongAge(\"Age cannot be negative\")\n",
        "        self.father_age = age\n",
        "\n",
        "class Son(Father):\n",
        "    def __init__(self, father_age, son_age):\n",
        "        super().__init__(father_age)\n",
        "\n",
        "        if son_age >= father_age:\n",
        "            raise AgeInvalid(\"Son's age should be less than Father's age\")\n",
        "\n",
        "        self.son_age = son_age\n",
        "\n",
        "try:\n",
        "    father_age_input = int(input(\"Enter Father's age: \"))\n",
        "    son_age_input = int(input(\"Enter Son's age: \"))\n",
        "\n",
        "    father = Father(father_age_input)\n",
        "    son = Son(father_age_input, son_age_input)\n",
        "\n",
        "except WrongAge as e:\n",
        "    print(f\"Error: {e}\")\n",
        "except AgeInvalid as e:\n",
        "    print(f\"Error: {e}\")\n",
        "except ValueError:\n",
        "    print(\"Invalid input. Please enter a valid age.\")\n",
        "\n",
        "else:\n",
        "  print(\"Father's age:\", father.father_age)\n",
        "  print(\"Son's age:\", son.son_age)\n"
      ],
      "metadata": {
        "colab": {
          "base_uri": "https://localhost:8080/"
        },
        "id": "2GVMMnK1Gl2O",
        "outputId": "1b79c19c-411d-4858-c75a-3c0ac12e882a"
      },
      "execution_count": null,
      "outputs": [
        {
          "output_type": "stream",
          "name": "stdout",
          "text": [
            "Enter Father's age: 34\n",
            "Enter Son's age: 32\n",
            "Father's age: 34\n",
            "Son's age: 32\n"
          ]
        }
      ]
    },
    {
      "cell_type": "markdown",
      "source": [
        "(b) You are going to write an interactive calculator! User input is assumed to\n",
        "be a formula that consist of a number, an operator (at least + and -), and\n",
        "another number, separated by white space (e.g. 1 + 1). Split user input\n",
        "using str.split(), and check whether the resulting list is valid:\n",
        "If the input does not consist of 3 elements, raise a FormulaError, which is\n",
        "a custom Exception.\n",
        "try to convert the first and third input to a float (like so: float_value =\n",
        "float(str_value)). Catch any ValueError that occurs, and instead raise a\n",
        "FormulaError\n",
        "If the second input is not + or - again raise a FormulaError\n",
        "If the input is valid, perform the calculation and print out the result. The\n",
        "user is then prompted to provide new input, and so on, until the user\n",
        "enters quit."
      ],
      "metadata": {
        "id": "cHzWAy7bH2Vb"
      }
    },
    {
      "cell_type": "code",
      "source": [
        "\n",
        "class FormulaError(Exception):\n",
        "    pass\n",
        "\n",
        "def calculate(formula):\n",
        "    try:\n",
        "        elements = formula.split()\n",
        "        if len(elements) != 3:\n",
        "            raise FormulaError(\"Invalid formula. Please provide a formula with 3 elements.\")\n",
        "\n",
        "        operand1 = float(elements[0])\n",
        "        operand2 = float(elements[2])\n",
        "\n",
        "        operator = elements[1]\n",
        "        if operator not in ('+', '-'):\n",
        "            raise FormulaError(\"Invalid operator. Please use + or -.\")\n",
        "\n",
        "        result = operand1 + operand2 if operator == '+' else operand1 - operand2\n",
        "\n",
        "        print(\"Result:\", result)\n",
        "\n",
        "    except ValueError:\n",
        "        raise FormulaError(\"Invalid input. Please provide valid numeric values.\")\n",
        "\n",
        "while True:\n",
        "    user_input = input(\"Enter a formula (or 'quit' to exit): \")\n",
        "\n",
        "    if user_input.lower() == 'quit':\n",
        "        break\n",
        "\n",
        "    try:\n",
        "        calculate(user_input)\n",
        "\n",
        "    except FormulaError as e:\n",
        "        print(f\"Error: {e}\")\n"
      ],
      "metadata": {
        "colab": {
          "base_uri": "https://localhost:8080/"
        },
        "id": "U7cwsgY8GxKS",
        "outputId": "a669095e-4d13-496a-a11e-357c8373b33a"
      },
      "execution_count": null,
      "outputs": [
        {
          "name": "stdout",
          "output_type": "stream",
          "text": [
            "Enter a formula (or 'quit' to exit): lohi\n",
            "Error: Invalid formula. Please provide a formula with 3 elements.\n",
            "Enter a formula (or 'quit' to exit): 3 + 2\n",
            "Result: 5.0\n",
            "Enter a formula (or 'quit' to exit): jjjj\n",
            "Error: Invalid formula. Please provide a formula with 3 elements.\n",
            "Enter a formula (or 'quit' to exit): quit\n"
          ]
        }
      ]
    },
    {
      "cell_type": "markdown",
      "source": [
        "7)  Write a Pygame program that draws the following shapes with the specified\n",
        "dimensions:\n",
        "1. Polygon:\n",
        "Draw a blue polygon with vertices at (146, 0), (291, 106), (236,\n",
        "277), (56, 277), and (0, 106).\n",
        "\n",
        "2. Line:\n",
        "Draw a green line from point (60, 300) to point (120, 300) with a\n",
        "thickness of 4 pixels.\n",
        "\n",
        "3. Circle:\n",
        "Draw a green-filled circle centered at (300, 50) with a radius of 20\n",
        "pixels.\n",
        "4. Ellipse:\n",
        "Draw a black ellipse within a bounding rectangle at (300, 250) with\n",
        "dimensions 40 (width) and 80 (height). Set the thickness to 1 pixel.\n",
        "\n",
        "5. Rectangle:\n",
        "\n",
        "Draw a black rectangle with the top-left corner at (150, 300), width\n",
        "of 100 pixels, and height of 50 pixels.\n",
        "\n",
        "Ensure the program enters into an infinite loop to continuously display the drawn\n",
        "shapes. Include necessary initialization steps, such as setting up the Pygame\n",
        "window and handling the QUIT event."
      ],
      "metadata": {
        "id": "mJNVb1xKIqLq"
      }
    },
    {
      "cell_type": "code",
      "source": [
        "import pygame\n",
        "import sys\n",
        "\n",
        "pygame.init()\n",
        "\n",
        "width, height = 400, 400\n",
        "window = pygame.display.set_mode((width, height))\n",
        "pygame.display.set_caption(\"Shapes Drawing\")\n",
        "\n",
        "blue = (0, 0, 255)\n",
        "green = (0, 255, 0)\n",
        "black = (0, 0, 0)\n",
        "\n",
        "while True:\n",
        "    for event in pygame.event.get():\n",
        "        if event.type == pygame.QUIT:\n",
        "            pygame.quit()\n",
        "            sys.exit()\n",
        "\n",
        "    window.fill((255, 255, 255))\n",
        "\n",
        "    pygame.draw.polygon(window, blue, [(146, 0), (291, 106), (236, 277), (56, 277), (0, 106)])\n",
        "    pygame.draw.line(window, green, (60, 300), (120, 300), 4)\n",
        "    pygame.draw.circle(window, green, (300, 50), 20)\n",
        "    pygame.draw.ellipse(window, black, (300, 250, 40, 80), 1)\n",
        "\n",
        "    pygame.draw.rect(window, black, (150, 300, 100, 50))\n",
        "\n",
        "    pygame.display.flip()\n",
        "    pygame.time.Clock().tick(60)\n"
      ],
      "metadata": {
        "id": "Rayh1ohZOjYj",
        "colab": {
          "base_uri": "https://localhost:8080/",
          "height": 211
        },
        "outputId": "82cc2e87-7fb0-4e43-ec79-fa3cf2051df8"
      },
      "execution_count": null,
      "outputs": [
        {
          "output_type": "error",
          "ename": "KeyboardInterrupt",
          "evalue": "",
          "traceback": [
            "\u001b[0;31m---------------------------------------------------------------------------\u001b[0m",
            "\u001b[0;31mKeyboardInterrupt\u001b[0m                         Traceback (most recent call last)",
            "\u001b[0;32m<ipython-input-3-cc2d2555c08b>\u001b[0m in \u001b[0;36m<cell line: 18>\u001b[0;34m()\u001b[0m\n\u001b[1;32m     44\u001b[0m \u001b[0;34m\u001b[0m\u001b[0m\n\u001b[1;32m     45\u001b[0m     \u001b[0;31m# Cap the frame rate\u001b[0m\u001b[0;34m\u001b[0m\u001b[0;34m\u001b[0m\u001b[0m\n\u001b[0;32m---> 46\u001b[0;31m     \u001b[0mpygame\u001b[0m\u001b[0;34m.\u001b[0m\u001b[0mtime\u001b[0m\u001b[0;34m.\u001b[0m\u001b[0mClock\u001b[0m\u001b[0;34m(\u001b[0m\u001b[0;34m)\u001b[0m\u001b[0;34m.\u001b[0m\u001b[0mtick\u001b[0m\u001b[0;34m(\u001b[0m\u001b[0;36m60\u001b[0m\u001b[0;34m)\u001b[0m\u001b[0;34m\u001b[0m\u001b[0;34m\u001b[0m\u001b[0m\n\u001b[0m",
            "\u001b[0;31mKeyboardInterrupt\u001b[0m: "
          ]
        }
      ]
    },
    {
      "cell_type": "markdown",
      "source": [
        "8) Write a python program that implements a multi-thread application that has three threads. First thread generates random integer every 1 second and if the value is even, second thread computes the square of the number and prints. If the value is odd, the third thread will print the value of cube of the number."
      ],
      "metadata": {
        "id": "hxg-u11sJSyV"
      }
    },
    {
      "cell_type": "code",
      "source": [
        "import threading\n",
        "import random\n",
        "import time\n",
        "\n",
        "shared_number = None\n",
        "\n",
        "lock = threading.Lock()\n",
        "\n",
        "def generate_random_number():\n",
        "    global shared_number\n",
        "    while True:\n",
        "        with lock:\n",
        "            shared_number = random.randint(1, 100)\n",
        "        time.sleep(1)\n",
        "\n",
        "def compute_square():\n",
        "    while True:\n",
        "        with lock:\n",
        "            if shared_number is not None and shared_number % 2 == 0:\n",
        "                print(f\"Square of {shared_number}: {shared_number ** 2}\")\n",
        "        time.sleep(1)\n",
        "\n",
        "def print_cube():\n",
        "    while True:\n",
        "        with lock:\n",
        "            if shared_number is not None and shared_number % 2 != 0:\n",
        "                print(f\"Cube of {shared_number}: {shared_number ** 3}\")\n",
        "        time.sleep(1)\n",
        "\n",
        "thread1 = threading.Thread(target=generate_random_number)\n",
        "thread2 = threading.Thread(target=compute_square)\n",
        "thread3 = threading.Thread(target=print_cube)\n",
        "\n",
        "thread1.start()\n",
        "thread2.start()\n",
        "thread3.start()\n",
        "\n",
        "thread1.join()\n",
        "thread2.join()\n",
        "thread3.join()\n"
      ],
      "metadata": {
        "id": "Ap0vSFcugy9Z"
      },
      "execution_count": null,
      "outputs": []
    },
    {
      "cell_type": "markdown",
      "source": [
        "9)Write a simulation program for the vegetable market. The farmer will be able to produce different types of vegetables put them in the market to sell. The market has limited capacity and farmers must wait if the capacity is exceeded to sell their vegetables. Consumers can come to the market and purchase their desired vegetable if available; and if the vegetable they want to buy runs out, they are willing to wait until the supply of that kind is ready"
      ],
      "metadata": {
        "id": "8y0u8yXZOKDW"
      }
    },
    {
      "cell_type": "code",
      "source": [
        "import time\n",
        "import random\n",
        "from threading import Thread, Lock\n",
        "\n",
        "class VegetableMarket:\n",
        "    def __init__(self, capacity):\n",
        "        self.capacity = capacity\n",
        "        self.vegetables_in_market = []\n",
        "        self.market_lock = Lock()\n",
        "\n",
        "    def add_vegetable(self, vegetable):\n",
        "        with self.market_lock:\n",
        "            if len(self.vegetables_in_market) < self.capacity:\n",
        "                self.vegetables_in_market.append(vegetable)\n",
        "                print(f\"{vegetable} added to the market.\")\n",
        "            else:\n",
        "                print(f\"Market is full. {vegetable} cannot be added.\")\n",
        "\n",
        "    def sell_vegetable(self, vegetable):\n",
        "        with self.market_lock:\n",
        "            if vegetable in self.vegetables_in_market:\n",
        "                self.vegetables_in_market.remove(vegetable)\n",
        "                print(f\"{vegetable} sold to a consumer.\")\n",
        "                return True\n",
        "            else:\n",
        "                print(f\"{vegetable} not available. Consumer needs to wait.\")\n",
        "                return False\n",
        "\n",
        "class Farmer(Thread):\n",
        "    def __init__(self, name, market, vegetables):\n",
        "        super().__init__()\n",
        "        self.name = name\n",
        "        self.market = market\n",
        "        self.vegetables = vegetables\n",
        "\n",
        "    def run(self):\n",
        "        for vegetable in self.vegetables:\n",
        "            time.sleep(random.uniform(0.5, 1.5))\n",
        "            self.market.add_vegetable(vegetable)\n",
        "\n",
        "class Consumer(Thread):\n",
        "    def __init__(self, name, market, desired_vegetable):\n",
        "        super().__init__()\n",
        "        self.name = name\n",
        "        self.market = market\n",
        "        self.desired_vegetable = desired_vegetable\n",
        "\n",
        "    def run(self):\n",
        "        while True:\n",
        "            time.sleep(random.uniform(1, 3))\n",
        "            if self.market.sell_vegetable(self.desired_vegetable):\n",
        "                print(f\"{self.name} bought {self.desired_vegetable}.\")\n",
        "                break\n",
        "\n",
        "if __name__ == \"__main__\":\n",
        "    market = VegetableMarket(capacity=5)\n",
        "\n",
        "    farmer1 = Farmer(name=\"Farmer 1\", market=market, vegetables=[\"Carrot\", \"Tomato\", \"Lettuce\"])\n",
        "    farmer2 = Farmer(name=\"Farmer 2\", market=market, vegetables=[\"Cucumber\", \"Spinach\", \"Onion\"])\n",
        "\n",
        "    consumer1 = Consumer(name=\"Consumer 1\", market=market, desired_vegetable=\"Tomato\")\n",
        "    consumer2 = Consumer(name=\"Consumer 2\", market=market, desired_vegetable=\"Cucumber\")\n",
        "\n",
        "    farmer1.start()\n",
        "    farmer2.start()\n",
        "    consumer1.start()\n",
        "    consumer2.start()\n",
        "\n",
        "    farmer1.join()\n",
        "    farmer2.join()\n",
        "    consumer1.join()\n",
        "    consumer2.join()"
      ],
      "metadata": {
        "colab": {
          "base_uri": "https://localhost:8080/"
        },
        "id": "ReGduUYg7DxK",
        "outputId": "d0232fe6-9285-414b-ab66-3dfa4b09354e"
      },
      "execution_count": null,
      "outputs": [
        {
          "output_type": "stream",
          "name": "stdout",
          "text": [
            "Carrot added to the market.\n",
            "Cucumber added to the market.\n",
            "Cucumber sold to a consumer.\n",
            "Consumer 2 bought Cucumber.\n",
            "Spinach added to the market.\n",
            "Tomato not available. Consumer needs to wait.\n",
            "Tomato added to the market.\n",
            "Onion added to the market.\n",
            "Tomato sold to a consumer.\n",
            "Consumer 1 bought Tomato.\n",
            "Lettuce added to the market.\n"
          ]
        }
      ]
    },
    {
      "cell_type": "markdown",
      "source": [
        "10) Write a Python program that demonstrates the use of multithreading. Your\n",
        "program should include the following components:\n",
        "1. Thread Creation:\n",
        " Create two threads, each responsible for executing a different\n",
        "function concurrently.\n",
        "\n",
        "2. Functionality:\n",
        " Define two functions, function_A and function_B, where\n",
        "function_A prints numbers from 1 to 5, and function_B prints\n",
        "letters &#39;A&#39; to &#39;E&#39;. Ensure that both functions have a delay between\n",
        "prints to simulate time-consuming tasks.\n",
        "\n",
        "3. Thread Execution:\n",
        " Start both threads to run concurrently.\n",
        "4. Synchronization:\n",
        " Implement a mechanism to synchronize the threads so that the\n",
        "numbers and letters are printed in an alternating fashion (e.g., 1,'A' , 2 , 'B' , ...).\n",
        "5. Thread Termination:\n",
        " Ensure that the program waits for both threads to complete their\n",
        "tasks before terminating."
      ],
      "metadata": {
        "id": "B-5q_uwXJrMW"
      }
    },
    {
      "cell_type": "code",
      "source": [
        "import threading\n",
        "import time\n",
        "\n",
        "event = threading.Event()\n",
        "\n",
        "def function_A():\n",
        "    for num in range(1, 6):\n",
        "        print(num, end=' ')\n",
        "        event.set()\n",
        "        time.sleep(0.5)\n",
        "        event.clear()\n",
        "\n",
        "def function_B():\n",
        "    letters = ['A', 'B', 'C', 'D', 'E']\n",
        "    for letter in letters:\n",
        "        event.wait()\n",
        "        print(letter, end=' ')\n",
        "        time.sleep(0.5)\n",
        "\n",
        "thread_A = threading.Thread(target=function_A)\n",
        "thread_B = threading.Thread(target=function_B)\n",
        "\n",
        "thread_A.start()\n",
        "thread_B.start()\n",
        "\n",
        "thread_A.join()\n",
        "thread_B.join()\n",
        "\n",
        "print(\"\\nProgram terminated.\")\n"
      ],
      "metadata": {
        "colab": {
          "base_uri": "https://localhost:8080/"
        },
        "id": "K7PJnO91JpZV",
        "outputId": "0fbf75ee-0b75-43a0-b14e-98f3d07656b6"
      },
      "execution_count": null,
      "outputs": [
        {
          "output_type": "stream",
          "name": "stdout",
          "text": [
            "Cube of 55: 166375\n",
            "1 A 2 B Square of 10: 100\n",
            "3 C 4 D Cube of 65: 274625\n",
            "5 E \n",
            "Program terminated.\n"
          ]
        }
      ]
    }
  ]
}