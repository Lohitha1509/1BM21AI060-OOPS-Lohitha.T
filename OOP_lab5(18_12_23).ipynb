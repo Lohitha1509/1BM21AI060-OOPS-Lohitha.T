{
  "nbformat": 4,
  "nbformat_minor": 0,
  "metadata": {
    "colab": {
      "provenance": []
    },
    "kernelspec": {
      "name": "python3",
      "display_name": "Python 3"
    },
    "language_info": {
      "name": "python"
    }
  },
  "cells": [
    {
      "cell_type": "code",
      "execution_count": null,
      "metadata": {
        "id": "x2NXINQheaiP"
      },
      "outputs": [],
      "source": [
        "from abc import ABC, abstractmethod\n",
        "\n",
        "class Vehicle(ABC):\n",
        "    @abstractmethod\n",
        "    def display_wheels(self):\n",
        "        pass\n",
        "    def start(self):\n",
        "        pass"
      ]
    },
    {
      "cell_type": "code",
      "source": [
        "class Bike(Vehicle):\n",
        "    def display_wheels(self):\n",
        "        print(\"2\")\n",
        "    def start(self):\n",
        "        print('kick start')\n",
        "\n",
        "class Car(Vehicle):\n",
        "    def display_wheels(self):\n",
        "        print(\"4\")\n",
        "    def start(self):\n",
        "        print('self start')\n",
        "\n",
        "class Bus(Vehicle):\n",
        "    def display_wheels(self):\n",
        "        print(\"6\")\n",
        "\n",
        "\n",
        "b = Bike()\n",
        "c = Car()\n",
        "bus = Bus()\n",
        "\n",
        "b.display_wheels()\n",
        "c.display_wheels()\n",
        "bus.display_wheels()\n",
        "\n",
        "b.start()\n",
        "c.start()\n",
        "\n"
      ],
      "metadata": {
        "colab": {
          "base_uri": "https://localhost:8080/"
        },
        "id": "GEjt8dNpxdDo",
        "outputId": "142fbe9f-1777-454b-99aa-8d4f42ac8638"
      },
      "execution_count": null,
      "outputs": [
        {
          "output_type": "stream",
          "name": "stdout",
          "text": [
            "2\n",
            "4\n",
            "6\n",
            "kick start\n",
            "self start\n"
          ]
        }
      ]
    },
    {
      "cell_type": "code",
      "source": [
        "#import the abc module to create the abstract base class\n",
        "#create the car class that inherits the abc class and defined an abstract method named mileage().\n",
        "#inherit the base class from the three diffrent subclasses and implment the abstract method differently.\n",
        "#create the objects to call abstarct method\n",
        "\n",
        "from abc import ABC, abstractmethod\n",
        "\n",
        "class Vehicle(ABC):\n",
        "    @abstractmethod\n",
        "    def mileage(self):\n",
        "        pass\n",
        "\n",
        "class Sedan(Vehicle):\n",
        "    def mileage(self):\n",
        "        return 25\n",
        "\n",
        "class SUV(Vehicle):\n",
        "    def mileage(self):\n",
        "        return 18\n",
        "\n",
        "class Truck(Vehicle):\n",
        "    def mileage(self):\n",
        "        return 12\n",
        "sedan = Sedan()\n",
        "suv = SUV()\n",
        "truck = Truck()\n",
        "\n",
        "print(\"Mileage of Sedan:\", sedan.mileage())\n",
        "print(\"Mileage of SUV:\", suv.mileage())\n",
        "print(\"Mileage of Truck:\", truck.mileage())\n"
      ],
      "metadata": {
        "colab": {
          "base_uri": "https://localhost:8080/"
        },
        "id": "rGKP2R2yxja4",
        "outputId": "08e6653e-012b-4ead-cf81-a2d72f30b63a"
      },
      "execution_count": null,
      "outputs": [
        {
          "output_type": "stream",
          "name": "stdout",
          "text": [
            "Mileage of Sedan: 25\n",
            "Mileage of SUV: 18\n",
            "Mileage of Truck: 12\n"
          ]
        }
      ]
    },
    {
      "cell_type": "code",
      "source": [
        "#create a class called as creditcard,make limit variable completely private to the outside of the class and balance should be accesible outside the class\n",
        "#, but not modifiable , since we dont want external code to arbitrarily  modify the credict card balance.to achieve this make get_balnce() field public,\n",
        "#however balance can only be modified via withdraw() and deposit()methods that have safeguard checks in place"
      ],
      "metadata": {
        "id": "Y7MmIFFix2nI"
      },
      "execution_count": null,
      "outputs": []
    },
    {
      "cell_type": "code",
      "source": [
        "class CreditCard:\n",
        "    def __init__(self, limit):\n",
        "        self.__limit = limit\n",
        "        self.__balance = 0\n",
        "\n",
        "    def get_balance(self):\n",
        "        return self.__balance\n",
        "\n",
        "    def deposit(self, amount):\n",
        "        if amount > 0:\n",
        "            self.__balance += amount\n",
        "            print(f\"Deposited ${amount}. New balance: ${self.__balance}\")\n",
        "        else:\n",
        "            print(\"Invalid deposit amount. Please deposit a positive amount.\")\n",
        "\n",
        "    def withdraw(self, amount):\n",
        "        if amount > 0 and amount <= self.__balance and amount <= self.__limit:\n",
        "            self.__balance -= amount\n",
        "            print(f\"Withdrew ${amount}. New balance: ${self.__balance}\")\n",
        "        elif amount <= 0:\n",
        "            print(\"Invalid withdrawal amount. Please withdraw a positive amount.\")\n",
        "        elif amount > self.__balance:\n",
        "            print(\"Insufficient funds. Withdrawal amount exceeds the available balance.\")\n",
        "        elif amount > self.__limit:\n",
        "            print(\"Withdrawal amount exceeds the credit limit.\")\n",
        "\n",
        "credit_card = CreditCard(limit=1000)\n",
        "\n",
        "balance = credit_card.get_balance()\n",
        "print(f\"Current balance: ${balance}\")\n",
        "\n",
        "credit_card.deposit(500)\n",
        "\n",
        "credit_card.withdraw(200)\n",
        "\n",
        "new_balance = credit_card.get_balance()\n",
        "print(f\"Updated balance: ${new_balance}\")\n"
      ],
      "metadata": {
        "colab": {
          "base_uri": "https://localhost:8080/"
        },
        "id": "AglsBZ_UicNV",
        "outputId": "b688f582-7b2b-4fae-b051-67d9ead60d1d"
      },
      "execution_count": 1,
      "outputs": [
        {
          "output_type": "stream",
          "name": "stdout",
          "text": [
            "Current balance: $0\n",
            "Deposited $500. New balance: $500\n",
            "Withdrew $200. New balance: $300\n",
            "Updated balance: $300\n"
          ]
        }
      ]
    }
  ]
}